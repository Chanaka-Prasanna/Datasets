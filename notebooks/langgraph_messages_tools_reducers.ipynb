{
  "nbformat": 4,
  "nbformat_minor": 0,
  "metadata": {
    "colab": {
      "provenance": []
    },
    "kernelspec": {
      "name": "python3",
      "display_name": "Python 3"
    },
    "language_info": {
      "name": "python"
    }
  },
  "cells": [
    {
      "cell_type": "code",
      "execution_count": 1,
      "metadata": {
        "id": "TNuGhoOrs9hb"
      },
      "outputs": [],
      "source": [
        "%%capture --no-stderr\n",
        "%pip install --quiet -U langchain_google_genai langchain_core langgraph"
      ]
    },
    {
      "cell_type": "code",
      "source": [
        "from pprint import  pprint\n",
        "from langchain_core.messages import AIMessage, HumanMessage, ToolMessage, AnyMessage\n",
        "from langchain_google_genai import ChatGoogleGenerativeAI\n",
        "from langgraph.graph.message import add_messages\n",
        "from langgraph.graph import StateGraph,START,END\n",
        "from typing_extensions import TypedDict\n",
        "from typing import Annotated\n",
        "\n"
      ],
      "metadata": {
        "id": "j77hTpL5s-fa"
      },
      "execution_count": 2,
      "outputs": []
    },
    {
      "cell_type": "markdown",
      "source": [
        "## Messages"
      ],
      "metadata": {
        "id": "rl4exlVZ8sK4"
      }
    },
    {
      "cell_type": "code",
      "source": [
        "messages = [AIMessage(content=\"Hi there! How can I assist today?\", name=\"Model\")]\n",
        "\n",
        "messages.append(HumanMessage(content=\"Count the words of 'I am Chanaka'\", name=\"Chanaka\"))\n",
        "messages.append(AIMessage(content=\"The word count is 3\", name=\"Model\"))\n",
        "messages.append(HumanMessage(content=\"Can you also reverse the text 'LangGraph is awesome'?\", name=\"Chanaka\"))\n",
        "\n",
        "for m in messages:\n",
        "    m.pretty_print()\n"
      ],
      "metadata": {
        "colab": {
          "base_uri": "https://localhost:8080/"
        },
        "id": "1HDltpkCe0jk",
        "outputId": "3dbee837-80e0-4a9e-8b0d-a51b70f91163"
      },
      "execution_count": 3,
      "outputs": [
        {
          "output_type": "stream",
          "name": "stdout",
          "text": [
            "==================================\u001b[1m Ai Message \u001b[0m==================================\n",
            "Name: Model\n",
            "\n",
            "Hi there! How can I assist today?\n",
            "================================\u001b[1m Human Message \u001b[0m=================================\n",
            "Name: Chanaka\n",
            "\n",
            "Count the words of 'I am Chanaka'\n",
            "==================================\u001b[1m Ai Message \u001b[0m==================================\n",
            "Name: Model\n",
            "\n",
            "The word count is 3\n",
            "================================\u001b[1m Human Message \u001b[0m=================================\n",
            "Name: Chanaka\n",
            "\n",
            "Can you also reverse the text 'LangGraph is awesome'?\n"
          ]
        }
      ]
    },
    {
      "cell_type": "code",
      "source": [
        "import os, getpass\n",
        "\n",
        "def _set_env(var: str):\n",
        "    if not os.environ.get(var):\n",
        "        os.environ[var] = getpass.getpass(f\"{var}: \")\n",
        "\n",
        "_set_env(\"GOOGLE_API_KEY\")"
      ],
      "metadata": {
        "colab": {
          "base_uri": "https://localhost:8080/"
        },
        "id": "KSiyZKecvDr0",
        "outputId": "f9ac34ef-e86a-451c-c4fe-9ad60371fde6"
      },
      "execution_count": 4,
      "outputs": [
        {
          "name": "stdout",
          "output_type": "stream",
          "text": [
            "GOOGLE_API_KEY: ··········\n"
          ]
        }
      ]
    },
    {
      "cell_type": "code",
      "source": [
        "llm = ChatGoogleGenerativeAI(model='gemini-2.5-flash')\n",
        "result = llm.invoke(\"Hi there\")\n",
        "result.content"
      ],
      "metadata": {
        "colab": {
          "base_uri": "https://localhost:8080/",
          "height": 36
        },
        "id": "YMv49czJtzKZ",
        "outputId": "ea9b6cd0-f78c-4a9c-8f0c-958bd5845408"
      },
      "execution_count": 5,
      "outputs": [
        {
          "output_type": "execute_result",
          "data": {
            "text/plain": [
              "'Hello! How can I help you today?'"
            ],
            "application/vnd.google.colaboratory.intrinsic+json": {
              "type": "string"
            }
          },
          "metadata": {},
          "execution_count": 5
        }
      ]
    },
    {
      "cell_type": "markdown",
      "source": [
        "## Tools"
      ],
      "metadata": {
        "id": "xnyOlrxOTvTm"
      }
    },
    {
      "cell_type": "code",
      "source": [
        "def reverse_text(text: str) -> str:\n",
        "  \"\"\"\n",
        "  Reverse a string\n",
        "  \"\"\"\n",
        "  return text[::-1]\n",
        "\n",
        "def count_words(text: str) -> str:\n",
        "  \"\"\"\n",
        "  Count number of words in a string\n",
        "  \"\"\"\n",
        "  return len(text.split())"
      ],
      "metadata": {
        "id": "Ftwtezliu94S"
      },
      "execution_count": 6,
      "outputs": []
    },
    {
      "cell_type": "code",
      "source": [
        "llm_with_tools = llm.bind_tools([reverse_text,count_words])"
      ],
      "metadata": {
        "id": "l6OsVGdkx1sH"
      },
      "execution_count": 7,
      "outputs": []
    },
    {
      "cell_type": "code",
      "source": [
        "result = llm_with_tools.invoke(\"Count the words of 'I am Chanaka'\")\n",
        "result"
      ],
      "metadata": {
        "colab": {
          "base_uri": "https://localhost:8080/"
        },
        "id": "dFLz2jsaybF6",
        "outputId": "89bd7465-82f7-4d57-efa2-62d94485d7fa"
      },
      "execution_count": 8,
      "outputs": [
        {
          "output_type": "execute_result",
          "data": {
            "text/plain": [
              "AIMessage(content='', additional_kwargs={'function_call': {'name': 'count_words', 'arguments': '{\"text\": \"I am Chanaka\"}'}}, response_metadata={'prompt_feedback': {'block_reason': 0, 'safety_ratings': []}, 'finish_reason': 'STOP', 'model_name': 'gemini-2.5-flash', 'safety_ratings': []}, id='run--2534de8d-c4df-45cc-88ee-646e07838ffd-0', tool_calls=[{'name': 'count_words', 'args': {'text': 'I am Chanaka'}, 'id': '56ce380c-b673-4ceb-aaee-0cee94c3b2d9', 'type': 'tool_call'}], usage_metadata={'input_tokens': 85, 'output_tokens': 84, 'total_tokens': 169, 'input_token_details': {'cache_read': 0}, 'output_token_details': {'reasoning': 66}})"
            ]
          },
          "metadata": {},
          "execution_count": 8
        }
      ]
    },
    {
      "cell_type": "code",
      "source": [
        "result.tool_calls"
      ],
      "metadata": {
        "colab": {
          "base_uri": "https://localhost:8080/"
        },
        "id": "pPx8c1TOyxU5",
        "outputId": "4ac6f5e5-acdc-4d60-ad82-186e74bc1296"
      },
      "execution_count": 9,
      "outputs": [
        {
          "output_type": "execute_result",
          "data": {
            "text/plain": [
              "[{'name': 'count_words',\n",
              "  'args': {'text': 'I am Chanaka'},\n",
              "  'id': '56ce380c-b673-4ceb-aaee-0cee94c3b2d9',\n",
              "  'type': 'tool_call'}]"
            ]
          },
          "metadata": {},
          "execution_count": 9
        }
      ]
    },
    {
      "cell_type": "code",
      "source": [
        "result = llm_with_tools.invoke(\"Reverse 'I am Chanaka'\")\n",
        "result"
      ],
      "metadata": {
        "colab": {
          "base_uri": "https://localhost:8080/"
        },
        "id": "YY0uHxblEEJc",
        "outputId": "09f568a8-0dc8-4436-a522-de73113a018a"
      },
      "execution_count": 10,
      "outputs": [
        {
          "output_type": "execute_result",
          "data": {
            "text/plain": [
              "AIMessage(content='', additional_kwargs={'function_call': {'name': 'reverse_text', 'arguments': '{\"text\": \"I am Chanaka\"}'}}, response_metadata={'prompt_feedback': {'block_reason': 0, 'safety_ratings': []}, 'finish_reason': 'STOP', 'model_name': 'gemini-2.5-flash', 'safety_ratings': []}, id='run--80d1f530-b82b-4342-969d-53bc0c460bb9-0', tool_calls=[{'name': 'reverse_text', 'args': {'text': 'I am Chanaka'}, 'id': 'f9e70df3-48aa-44f7-89be-60f1bfd714f4', 'type': 'tool_call'}], usage_metadata={'input_tokens': 82, 'output_tokens': 93, 'total_tokens': 175, 'input_token_details': {'cache_read': 0}, 'output_token_details': {'reasoning': 75}})"
            ]
          },
          "metadata": {},
          "execution_count": 10
        }
      ]
    },
    {
      "cell_type": "code",
      "source": [
        "result.tool_calls"
      ],
      "metadata": {
        "colab": {
          "base_uri": "https://localhost:8080/"
        },
        "id": "oyqWKS-GEJBq",
        "outputId": "329f1cd0-c4d0-42cb-b3da-26e81633385f"
      },
      "execution_count": 11,
      "outputs": [
        {
          "output_type": "execute_result",
          "data": {
            "text/plain": [
              "[{'name': 'reverse_text',\n",
              "  'args': {'text': 'I am Chanaka'},\n",
              "  'id': 'f9e70df3-48aa-44f7-89be-60f1bfd714f4',\n",
              "  'type': 'tool_call'}]"
            ]
          },
          "metadata": {},
          "execution_count": 11
        }
      ]
    },
    {
      "cell_type": "code",
      "source": [
        "result = llm_with_tools.invoke(\"Count and reverse: 'I am Chanaka'\")\n",
        "result.tool_calls"
      ],
      "metadata": {
        "colab": {
          "base_uri": "https://localhost:8080/"
        },
        "id": "EvGzD_lLSRdh",
        "outputId": "f63a3b8d-fdec-4583-c9c9-70d602051ab9"
      },
      "execution_count": 12,
      "outputs": [
        {
          "output_type": "execute_result",
          "data": {
            "text/plain": [
              "[{'name': 'count_words',\n",
              "  'args': {'text': 'I am Chanaka'},\n",
              "  'id': 'f98ad523-2476-4887-9ae7-b566017242e6',\n",
              "  'type': 'tool_call'},\n",
              " {'name': 'reverse_text',\n",
              "  'args': {'text': 'I am Chanaka'},\n",
              "  'id': '3a2260b3-98c7-492d-a17a-c2b8cc094908',\n",
              "  'type': 'tool_call'}]"
            ]
          },
          "metadata": {},
          "execution_count": 12
        }
      ]
    },
    {
      "cell_type": "code",
      "source": [
        "result = llm_with_tools.invoke(\"What is AI?\")\n",
        "result.tool_calls"
      ],
      "metadata": {
        "colab": {
          "base_uri": "https://localhost:8080/"
        },
        "id": "FjcXxm8cUjDk",
        "outputId": "e329a63a-21d5-42a1-d1ed-7a3e1e1605a3"
      },
      "execution_count": 13,
      "outputs": [
        {
          "output_type": "execute_result",
          "data": {
            "text/plain": [
              "[]"
            ]
          },
          "metadata": {},
          "execution_count": 13
        }
      ]
    },
    {
      "cell_type": "markdown",
      "source": [
        "## Reducers\n"
      ],
      "metadata": {
        "id": "qko4nTRGb0pb"
      }
    },
    {
      "cell_type": "code",
      "source": [
        "class MessagesState(TypedDict):\n",
        "    messages: list[AnyMessage]\n",
        "\n",
        "# Node\n",
        "def tool_calling_llm(state:MessagesState):\n",
        "  return {\"messages\":[llm_with_tools.invoke(state['messages'])]}\n",
        "\n",
        "builder = StateGraph(MessagesState)\n",
        "builder.add_node(\"tool_calling_node\",tool_calling_llm)\n",
        "builder.add_edge(START,\"tool_calling_node\")\n",
        "builder.add_edge(\"tool_calling_node\",END)\n",
        "\n",
        "graph = builder.compile()"
      ],
      "metadata": {
        "id": "BNnEuvPQzE4q"
      },
      "execution_count": 14,
      "outputs": []
    },
    {
      "cell_type": "code",
      "source": [
        "result =  graph.invoke({\"messages\":[HumanMessage(content=\"Count and reverse: 'I am Chanaka'\")]})\n",
        "for m in result['messages']:\n",
        "    m.pretty_print()"
      ],
      "metadata": {
        "colab": {
          "base_uri": "https://localhost:8080/"
        },
        "id": "GqRm970L-Vlw",
        "outputId": "d103c2c5-154b-43af-b36c-7b7bdbd391ea"
      },
      "execution_count": 15,
      "outputs": [
        {
          "output_type": "stream",
          "name": "stdout",
          "text": [
            "==================================\u001b[1m Ai Message \u001b[0m==================================\n",
            "Tool Calls:\n",
            "  count_words (a2adace5-a9d0-40a0-9fb3-088a39664a41)\n",
            " Call ID: a2adace5-a9d0-40a0-9fb3-088a39664a41\n",
            "  Args:\n",
            "    text: I am Chanaka\n",
            "  reverse_text (38ec092b-91bf-4e37-9547-18dfc082d557)\n",
            " Call ID: 38ec092b-91bf-4e37-9547-18dfc082d557\n",
            "  Args:\n",
            "    text: I am Chanaka\n"
          ]
        }
      ]
    },
    {
      "cell_type": "code",
      "source": [
        "class MessagesState(TypedDict):\n",
        "    messages: Annotated[list[AnyMessage], add_messages]\n",
        "\n",
        "# Node\n",
        "def tool_calling_llm(state:MessagesState):\n",
        "  return {\"messages\":[llm_with_tools.invoke(state['messages'])]}\n",
        "\n",
        "builder = StateGraph(MessagesState)\n",
        "builder.add_node(\"tool_calling_node\",tool_calling_llm)\n",
        "builder.add_edge(START,\"tool_calling_node\")\n",
        "builder.add_edge(\"tool_calling_node\",END)\n",
        "\n",
        "graph = builder.compile()\n"
      ],
      "metadata": {
        "id": "_t5RGryY_JLt"
      },
      "execution_count": 16,
      "outputs": []
    },
    {
      "cell_type": "code",
      "source": [
        "result =  graph.invoke({\"messages\":[HumanMessage(content=\"Count and reverse: 'I am Chanaka'\")]})\n",
        "\n",
        "for m in result['messages']:\n",
        "    m.pretty_print()"
      ],
      "metadata": {
        "colab": {
          "base_uri": "https://localhost:8080/"
        },
        "id": "PGEnZMuFxei-",
        "outputId": "3dc07c5a-2f47-43de-e3b1-02460c9b921e"
      },
      "execution_count": 17,
      "outputs": [
        {
          "output_type": "stream",
          "name": "stdout",
          "text": [
            "================================\u001b[1m Human Message \u001b[0m=================================\n",
            "\n",
            "Count and reverse: 'I am Chanaka'\n",
            "==================================\u001b[1m Ai Message \u001b[0m==================================\n",
            "Tool Calls:\n",
            "  count_words (0dfd8fd9-607e-4032-be9f-aedbf9663fc9)\n",
            " Call ID: 0dfd8fd9-607e-4032-be9f-aedbf9663fc9\n",
            "  Args:\n",
            "    text: I am Chanaka\n",
            "  reverse_text (9b0df3e4-9c3c-4ef2-be02-db078a1bbd44)\n",
            " Call ID: 9b0df3e4-9c3c-4ef2-be02-db078a1bbd44\n",
            "  Args:\n",
            "    text: I am Chanaka\n"
          ]
        }
      ]
    }
  ]
}