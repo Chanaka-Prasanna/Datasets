{
  "nbformat": 4,
  "nbformat_minor": 0,
  "metadata": {
    "colab": {
      "provenance": []
    },
    "kernelspec": {
      "name": "python3",
      "display_name": "Python 3"
    },
    "language_info": {
      "name": "python"
    }
  },
  "cells": [
    {
      "cell_type": "code",
      "source": [
        "from typing_extensions import TypedDict\n",
        "from typing import Literal\n",
        "from langgraph.graph import StateGraph, START, END\n",
        "\n",
        "# Define the state\n",
        "class State(TypedDict):\n",
        "    request: str\n",
        "    cost: int\n",
        "    status: str\n",
        "\n",
        "# Define nodes\n",
        "def submit_request(state: State) -> State:\n",
        "    print(f\"Submitting request: {state['request']} (cost: {state['cost']})\")\n",
        "    return {\"request\": state[\"request\"], \"cost\": state[\"cost\"], \"status\": \"submitted\"}\n",
        "\n",
        "def review_request(state: State) -> State:\n",
        "    print(\"Reviewing request...\")\n",
        "    return {\"request\": state[\"request\"], \"cost\": state[\"cost\"], \"status\": \"under_review\"}\n",
        "\n",
        "def approve_request(state: State) -> State:\n",
        "    print(\"Request approved\")\n",
        "    return {\"request\": state[\"request\"], \"cost\": state[\"cost\"], \"status\": \"approved\"}\n",
        "\n",
        "def reject_request(state: State) -> State:\n",
        "    print(\"Request rejected\")\n",
        "    return {\"request\": state[\"request\"], \"cost\": state[\"cost\"], \"status\": \"rejected\"}\n",
        "\n",
        "# Conditional decision with multiple rules\n",
        "def decide_request(state: State) -> Literal[\"approve\", \"reject\"]:\n",
        "    req = state[\"request\"].lower()\n",
        "    cost = state[\"cost\"]\n",
        "\n",
        "    if \"office\" in req and cost <= 500:\n",
        "        return \"approve\"   # office-related and affordable\n",
        "    if \"training\" in req and cost <= 1000:\n",
        "        return \"approve\"   # training requests allowed up to 1000\n",
        "    # everything else gets rejected\n",
        "    return \"reject\"\n",
        "\n",
        "# Build the graph\n",
        "graph = StateGraph(State)\n",
        "\n",
        "graph.add_node(\"submit\", submit_request)\n",
        "graph.add_node(\"review\", review_request)\n",
        "graph.add_node(\"approve\", approve_request)\n",
        "graph.add_node(\"reject\", reject_request)\n",
        "\n",
        "# Edges\n",
        "graph.add_edge(START, \"submit\")\n",
        "graph.add_edge(\"submit\", \"review\")\n",
        "graph.add_conditional_edges(\"review\", decide_request)\n",
        "graph.add_edge(\"approve\", END)\n",
        "graph.add_edge(\"reject\", END)\n",
        "\n",
        "# Compile\n",
        "compiled_graph = graph.compile()\n",
        "\n",
        "# Test with sample requests\n",
        "sample_requests = [\n",
        "    {\"request\": \"Buy office supplies\", \"cost\": 300, \"status\": \"\"},\n",
        "    {\"request\": \"Buy office chairs\", \"cost\": 800, \"status\": \"\"},\n",
        "    {\"request\": \"Team training program\", \"cost\": 900, \"status\": \"\"},\n",
        "    {\"request\": \"Company retreat\", \"cost\": 5000, \"status\": \"\"},\n",
        "]\n",
        "\n",
        "for r in sample_requests:\n",
        "    print(\"\\nNew Run\")\n",
        "    result = compiled_graph.invoke(r)\n",
        "    print(\"Final State:\", result)\n",
        "    print(\"-\"*100)\n"
      ],
      "metadata": {
        "colab": {
          "base_uri": "https://localhost:8080/"
        },
        "id": "Kvgv_7cB3Uz0",
        "outputId": "4c9253cc-cc68-422c-ad1d-79fdfc2e65fc"
      },
      "execution_count": 32,
      "outputs": [
        {
          "output_type": "stream",
          "name": "stdout",
          "text": [
            "\n",
            "New Run\n",
            "Submitting request: Buy office supplies (cost: 300)\n",
            "Reviewing request...\n",
            "Request approved\n",
            "Final State: {'request': 'Buy office supplies', 'cost': 300, 'status': 'approved'}\n",
            "----------------------------------------------------------------------------------------------------\n",
            "\n",
            "New Run\n",
            "Submitting request: Buy office chairs (cost: 800)\n",
            "Reviewing request...\n",
            "Request rejected\n",
            "Final State: {'request': 'Buy office chairs', 'cost': 800, 'status': 'rejected'}\n",
            "----------------------------------------------------------------------------------------------------\n",
            "\n",
            "New Run\n",
            "Submitting request: Team training program (cost: 900)\n",
            "Reviewing request...\n",
            "Request approved\n",
            "Final State: {'request': 'Team training program', 'cost': 900, 'status': 'approved'}\n",
            "----------------------------------------------------------------------------------------------------\n",
            "\n",
            "New Run\n",
            "Submitting request: Company retreat (cost: 5000)\n",
            "Reviewing request...\n",
            "Request rejected\n",
            "Final State: {'request': 'Company retreat', 'cost': 5000, 'status': 'rejected'}\n",
            "----------------------------------------------------------------------------------------------------\n"
          ]
        }
      ]
    },
    {
      "cell_type": "code",
      "source": [
        "from IPython.display import Image, display\n",
        "\n",
        "# Visualize the graph\n",
        "display(Image(compiled_graph.get_graph().draw_mermaid_png()))"
      ],
      "metadata": {
        "colab": {
          "base_uri": "https://localhost:8080/",
          "height": 449
        },
        "id": "wt71SrlG32Lb",
        "outputId": "d80b8a9c-b416-4db3-edd6-c76c3567f853"
      },
      "execution_count": 34,
      "outputs": [
        {
          "output_type": "display_data",
          "data": {
            "image/png": "[encoded data removed]",
            "text/plain": [
              "<IPython.core.display.Image object>"
            ]
          },
          "metadata": {}
        }
      ]
    }
  ]
}