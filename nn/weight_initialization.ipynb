{
  "nbformat": 4,
  "nbformat_minor": 0,
  "metadata": {
    "colab": {
      "provenance": [],
      "gpuType": "T4"
    },
    "kernelspec": {
      "name": "python3",
      "display_name": "Python 3"
    },
    "language_info": {
      "name": "python"
    },
    "accelerator": "GPU"
  },
  "cells": [
    {
      "cell_type": "markdown",
      "source": [
        "Import necessary modules"
      ],
      "metadata": {
        "id": "ixqGzc3v2bkG"
      }
    },
    {
      "cell_type": "code",
      "source": [
        "import torch\n",
        "import torch.nn as nn\n",
        "import torch.nn.functional as F\n",
        "import numpy as np\n",
        "from sklearn.datasets import load_digits\n",
        "from sklearn.model_selection import train_test_split\n",
        "from sklearn.preprocessing import StandardScaler\n",
        "from sklearn.metrics import accuracy_score\n",
        "import random"
      ],
      "metadata": {
        "id": "jljdNG8kH_v1"
      },
      "execution_count": 1,
      "outputs": []
    },
    {
      "cell_type": "code",
      "source": [
        "def set_seed(seed=42):\n",
        "    torch.manual_seed(seed)\n",
        "    np.random.seed(seed)\n",
        "    random.seed(seed)\n",
        "    if torch.cuda.is_available():\n",
        "        torch.cuda.manual_seed_all(seed)\n",
        "\n",
        "set_seed()"
      ],
      "metadata": {
        "id": "eD3YFqkCKDBT"
      },
      "execution_count": 2,
      "outputs": []
    },
    {
      "cell_type": "markdown",
      "source": [
        "Load dataset"
      ],
      "metadata": {
        "id": "CnMnI4_KIB59"
      }
    },
    {
      "cell_type": "code",
      "source": [
        "# Load Digits dataset (1797 samples, 64 features)\n",
        "digits = load_digits()\n",
        "X = digits.data\n",
        "y = digits.target"
      ],
      "metadata": {
        "id": "h651SpU8IBnO"
      },
      "execution_count": 3,
      "outputs": []
    },
    {
      "cell_type": "markdown",
      "source": [
        "Standardize the dataset"
      ],
      "metadata": {
        "id": "IsFKesRSILPx"
      }
    },
    {
      "cell_type": "code",
      "source": [
        "scaler = StandardScaler()\n",
        "X = scaler.fit_transform(X)\n"
      ],
      "metadata": {
        "id": "YMySsUjPIHiB"
      },
      "execution_count": 4,
      "outputs": []
    },
    {
      "cell_type": "markdown",
      "source": [
        "Train-Test split"
      ],
      "metadata": {
        "id": "pp48E3T7IQbU"
      }
    },
    {
      "cell_type": "code",
      "source": [
        "\n",
        "X_train, X_test, y_train, y_test = train_test_split(\n",
        "    X, y, test_size=0.2, random_state=42\n",
        ")\n"
      ],
      "metadata": {
        "id": "foKVJvDRIOo7"
      },
      "execution_count": 5,
      "outputs": []
    },
    {
      "cell_type": "markdown",
      "source": [
        "Convert to tensors"
      ],
      "metadata": {
        "id": "qnaoppIHIUnW"
      }
    },
    {
      "cell_type": "code",
      "source": [
        "X_train = torch.tensor(X_train, dtype=torch.float32)\n",
        "y_train = torch.tensor(y_train, dtype=torch.long)\n",
        "X_test = torch.tensor(X_test, dtype=torch.float32)\n",
        "y_test = torch.tensor(y_test, dtype=torch.long)"
      ],
      "metadata": {
        "id": "VacQYV5nIS6l"
      },
      "execution_count": 6,
      "outputs": []
    },
    {
      "cell_type": "markdown",
      "source": [
        "Define the neural network"
      ],
      "metadata": {
        "id": "sm09fsnzIZxr"
      }
    },
    {
      "cell_type": "code",
      "source": [
        "class DigitNN(nn.Module):\n",
        "  def __init__(self):\n",
        "      super(DigitNN, self).__init__()\n",
        "      self.fc1 = nn.Linear(64, 128)\n",
        "      self.fc2 = nn.Linear(128, 64)\n",
        "      self.fc3 = nn.Linear(64, 10)\n",
        "\n",
        "  def forward(self, x):\n",
        "      x = F.relu(self.fc1(x))\n",
        "      x = F.relu(self.fc2(x))\n",
        "      x = self.fc3(x)\n",
        "      return x"
      ],
      "metadata": {
        "id": "VOagohPhIY_f"
      },
      "execution_count": 7,
      "outputs": []
    },
    {
      "cell_type": "markdown",
      "source": [
        "Train and Evaluate the model"
      ],
      "metadata": {
        "id": "22g90yewIf3k"
      }
    },
    {
      "cell_type": "code",
      "source": [
        "def train_and_evaluate(model):\n",
        "    criterion = nn.CrossEntropyLoss()\n",
        "    optimizer = torch.optim.Adam(model.parameters(), lr=0.005)\n",
        "\n",
        "    model.train()\n",
        "    for epoch in range(100):\n",
        "        optimizer.zero_grad()\n",
        "        outputs = model(X_train)\n",
        "        loss = criterion(outputs, y_train)\n",
        "        loss.backward()\n",
        "        optimizer.step()\n",
        "\n",
        "    model.eval()\n",
        "    with torch.no_grad():\n",
        "        predictions = model(X_test).argmax(dim=1).numpy()\n",
        "        accuracy = accuracy_score(y_test, predictions)\n",
        "\n",
        "    return accuracy"
      ],
      "metadata": {
        "id": "vYnCAZ70t8i2"
      },
      "execution_count": 8,
      "outputs": []
    },
    {
      "cell_type": "markdown",
      "source": [
        "Zero weight Initialization"
      ],
      "metadata": {
        "id": "_BUqXHRQIojl"
      }
    },
    {
      "cell_type": "code",
      "source": [
        "model_zero = DigitNN()\n",
        "\n",
        "# Zero initialization\n",
        "for param in model_zero.parameters():\n",
        "    nn.init.constant_(param, 0.0)\n",
        "\n",
        "acc_zero = train_and_evaluate(model_zero)\n",
        "print(f\"Accuracy with Zero Initialization: {acc_zero * 100:.2f}%\")\n"
      ],
      "metadata": {
        "colab": {
          "base_uri": "https://localhost:8080/"
        },
        "id": "WZB5nmCr2jev",
        "outputId": "da47a0c1-90cb-44b9-c0e3-d0582d05a232"
      },
      "execution_count": 9,
      "outputs": [
        {
          "output_type": "stream",
          "name": "stdout",
          "text": [
            "Accuracy with Zero Initialization: 7.78%\n"
          ]
        }
      ]
    },
    {
      "cell_type": "markdown",
      "source": [
        "High-Value Random Initialization"
      ],
      "metadata": {
        "id": "_HVh7q1iJYwW"
      }
    },
    {
      "cell_type": "code",
      "source": [
        "model_high = DigitNN()\n",
        "set_seed()\n",
        "# High-value random initialization (mean=5, std=3)\n",
        "for param in model_high.parameters():\n",
        "    nn.init.normal_(param, mean=5.0, std=3.0)\n",
        "\n",
        "acc_high = train_and_evaluate(model_high)\n",
        "print(f\"Accuracy with High-Value Initialization: {acc_high * 100:.2f}%\")"
      ],
      "metadata": {
        "colab": {
          "base_uri": "https://localhost:8080/"
        },
        "id": "kXqJfSyB2oWV",
        "outputId": "1b2f93d9-a95d-4fa2-ff0a-b183bd75593a"
      },
      "execution_count": 10,
      "outputs": [
        {
          "output_type": "stream",
          "name": "stdout",
          "text": [
            "Accuracy with High-Value Initialization: 41.11%\n"
          ]
        }
      ]
    },
    {
      "cell_type": "markdown",
      "source": [
        "Low-Value Random Initialization"
      ],
      "metadata": {
        "id": "V1UEfStJJhkc"
      }
    },
    {
      "cell_type": "code",
      "source": [
        "model_low = DigitNN()\n",
        "set_seed()\n",
        "# Low-value random initialization (mean=0.2, std=0.05)\n",
        "for param in model_low.parameters():\n",
        "    nn.init.normal_(param, mean=0.2, std=0.05)\n",
        "\n",
        "acc_low = train_and_evaluate(model_low)\n",
        "print(f\"Accuracy with Low-Value Initialization: {acc_low * 100:.2f}%\")"
      ],
      "metadata": {
        "colab": {
          "base_uri": "https://localhost:8080/"
        },
        "id": "fCoj6xQM2sV7",
        "outputId": "96458a1d-218c-4215-8203-4fbc7b8ceb6a"
      },
      "execution_count": 11,
      "outputs": [
        {
          "output_type": "stream",
          "name": "stdout",
          "text": [
            "Accuracy with Low-Value Initialization: 91.94%\n"
          ]
        }
      ]
    },
    {
      "cell_type": "markdown",
      "source": [
        "He Initialization (Kaiming)"
      ],
      "metadata": {
        "id": "xUqQKPSdJnQ2"
      }
    },
    {
      "cell_type": "code",
      "source": [
        "model_he = DigitNN()\n",
        "set_seed()\n",
        "# He initialization\n",
        "for name, param in model_he.named_parameters():\n",
        "    if 'weight' in name:\n",
        "        nn.init.kaiming_normal_(param, nonlinearity='relu')\n",
        "    elif 'bias' in name:\n",
        "        nn.init.constant_(param, 0.0)\n",
        "\n",
        "acc_he = train_and_evaluate(model_he)\n",
        "print(f\"Accuracy with He Initialization: {acc_he * 100:.2f}%\")"
      ],
      "metadata": {
        "colab": {
          "base_uri": "https://localhost:8080/"
        },
        "id": "G-lQ7yt425sJ",
        "outputId": "916e143b-dc0a-4c03-ee2d-10b38534911c"
      },
      "execution_count": 12,
      "outputs": [
        {
          "output_type": "stream",
          "name": "stdout",
          "text": [
            "Accuracy with He Initialization: 97.22%\n"
          ]
        }
      ]
    },
    {
      "cell_type": "markdown",
      "source": [
        "Xavier Initialization"
      ],
      "metadata": {
        "id": "oXSl9U6zJrnb"
      }
    },
    {
      "cell_type": "code",
      "source": [
        "model_xavier = DigitNN()\n",
        "set_seed()\n",
        "# Xavier initialization\n",
        "for name, param in model_xavier.named_parameters():\n",
        "    if 'weight' in name:\n",
        "        nn.init.xavier_normal_(param)\n",
        "    elif 'bias' in name:\n",
        "        nn.init.constant_(param, 0.0)\n",
        "\n",
        "acc_xavier = train_and_evaluate(model_xavier)\n",
        "print(f\"Accuracy with Xavier Initialization: {acc_xavier * 100:.2f}%\")"
      ],
      "metadata": {
        "colab": {
          "base_uri": "https://localhost:8080/"
        },
        "id": "uL3xWfXe3B86",
        "outputId": "7542a555-5629-411b-d42d-8fd420bfe956"
      },
      "execution_count": 13,
      "outputs": [
        {
          "output_type": "stream",
          "name": "stdout",
          "text": [
            "Accuracy with Xavier Initialization: 97.78%\n"
          ]
        }
      ]
    },
    {
      "cell_type": "code",
      "source": [],
      "metadata": {
        "id": "1c7R9xpcJszK"
      },
      "execution_count": null,
      "outputs": []
    }
  ]
}